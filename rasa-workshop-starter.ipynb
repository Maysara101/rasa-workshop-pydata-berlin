{
 "cells": [
  {
   "cell_type": "markdown",
   "metadata": {},
   "source": [
    "# Building conversational AI with the Rasa stack\n",
    "![alt text](https://encrypted-tbn0.gstatic.com/images?q=tbn:ANd9GcTaX3LNhGcAe1HnPZSuWS0oH6af0LJHXcH7If1sQgLCFAT1chNGFg)\n",
    "\n",
    "\n",
    "This notebook is a basis for my workshop at PyData 2018 Berlin. If you have any questions or would like to learn more about anything included in this notebook, please let me know or get in touch by juste@rasa.com.\n",
    "\n",
    "In this workshop we are going to build a chatbot capable of checking in on people's mood and take the necessary actions to cheer them up. \n",
    "\n",
    "\n",
    "The tutorial consists of three parts:\n",
    "\n",
    "\n",
    "*   Part 0: Installation and setup\n",
    "*   Part 1: Teaching the chatbot to understand user inputs using Rasa NLU model\n",
    "*   Part 2: Teaching the chatbot to handle multi-turn conversations using dialogue management model.\n",
    "*   Part 3: Resources and tips"
   ]
  },
  {
   "cell_type": "markdown",
   "metadata": {},
   "source": [
    "## Part 0: Installation\n",
    "\n",
    "### Let's start with jupyter configuration"
   ]
  },
  {
   "cell_type": "code",
   "execution_count": 19,
   "metadata": {},
   "outputs": [],
   "source": [
    "%matplotlib inline\n",
    "from pprint import pprint\n",
    "import logging, io, json, warnings\n",
    "logging.basicConfig(level=\"INFO\")\n",
    "warnings.filterwarnings('ignore')\n"
   ]
  },
  {
   "cell_type": "markdown",
   "metadata": {},
   "source": [
    "### Installation of Rasa\n",
    "Let's start with the installation of Rasa NLU, Rasa Core and a spacy language model. If you have already installed, you can skip this step. "
   ]
  },
  {
   "cell_type": "code",
   "execution_count": 2,
   "metadata": {},
   "outputs": [],
   "source": [
    "import sys\n",
    "python = sys.executable\n"
   ]
  },
  {
   "cell_type": "code",
   "execution_count": 2,
   "metadata": {},
   "outputs": [
    {
     "name": "stdout",
     "output_type": "stream",
     "text": [
      "Requirement already up-to-date: rasa_core in /Users/sarit/.pyenv/versions/3.6.8/envs/rasa/lib/python3.6/site-packages (0.13.0)\n",
      "Requirement already up-to-date: rasa_nlu[spacy] in /Users/sarit/.pyenv/versions/3.6.8/envs/rasa/lib/python3.6/site-packages (0.14.1)\n",
      "Requirement already satisfied, skipping upgrade: requests~=2.20 in /Users/sarit/.pyenv/versions/3.6.8/envs/rasa/lib/python3.6/site-packages (from rasa_core) (2.20.1)\n",
      "Requirement already satisfied, skipping upgrade: pika~=0.12.0 in /Users/sarit/.pyenv/versions/3.6.8/envs/rasa/lib/python3.6/site-packages (from rasa_core) (0.12.0)\n",
      "Requirement already satisfied, skipping upgrade: numpy~=1.16 in /Users/sarit/.pyenv/versions/3.6.8/envs/rasa/lib/python3.6/site-packages (from rasa_core) (1.16.0)\n",
      "Requirement already satisfied, skipping upgrade: rocketchat-API~=0.6.0 in /Users/sarit/.pyenv/versions/3.6.8/envs/rasa/lib/python3.6/site-packages (from rasa_core) (0.6.25)\n",
      "Requirement already satisfied, skipping upgrade: colorhash~=1.0 in /Users/sarit/.pyenv/versions/3.6.8/envs/rasa/lib/python3.6/site-packages (from rasa_core) (1.0.2)\n",
      "Requirement already satisfied, skipping upgrade: typing~=3.0 in /Users/sarit/.pyenv/versions/3.6.8/envs/rasa/lib/python3.6/site-packages (from rasa_core) (3.6.6)\n",
      "Requirement already satisfied, skipping upgrade: ruamel.yaml~=0.15.0 in /Users/sarit/.pyenv/versions/3.6.8/envs/rasa/lib/python3.6/site-packages (from rasa_core) (0.15.87)\n",
      "Requirement already satisfied, skipping upgrade: slackclient~=1.0 in /Users/sarit/.pyenv/versions/3.6.8/envs/rasa/lib/python3.6/site-packages (from rasa_core) (1.3.0)\n",
      "Requirement already satisfied, skipping upgrade: scipy~=1.2 in /Users/sarit/.pyenv/versions/3.6.8/envs/rasa/lib/python3.6/site-packages (from rasa_core) (1.2.0)\n",
      "Requirement already satisfied, skipping upgrade: twilio~=6.0 in /Users/sarit/.pyenv/versions/3.6.8/envs/rasa/lib/python3.6/site-packages (from rasa_core) (6.23.1)\n",
      "Requirement already satisfied, skipping upgrade: gevent~=1.4 in /Users/sarit/.pyenv/versions/3.6.8/envs/rasa/lib/python3.6/site-packages (from rasa_core) (1.4.0)\n",
      "Requirement already satisfied, skipping upgrade: flask-cors~=3.0 in /Users/sarit/.pyenv/versions/3.6.8/envs/rasa/lib/python3.6/site-packages (from rasa_core) (3.0.7)\n",
      "Requirement already satisfied, skipping upgrade: colorclass~=2.2 in /Users/sarit/.pyenv/versions/3.6.8/envs/rasa/lib/python3.6/site-packages (from rasa_core) (2.2.0)\n",
      "Requirement already satisfied, skipping upgrade: fakeredis~=0.10.0 in /Users/sarit/.pyenv/versions/3.6.8/envs/rasa/lib/python3.6/site-packages (from rasa_core) (0.10.3)\n",
      "Requirement already satisfied, skipping upgrade: fbmessenger~=5.0 in /Users/sarit/.pyenv/versions/3.6.8/envs/rasa/lib/python3.6/site-packages (from rasa_core) (5.4.0)\n",
      "Requirement already satisfied, skipping upgrade: jsonpickle~=1.0 in /Users/sarit/.pyenv/versions/3.6.8/envs/rasa/lib/python3.6/site-packages (from rasa_core) (1.1)\n",
      "Requirement already satisfied, skipping upgrade: jsonschema~=2.6 in /Users/sarit/.pyenv/versions/3.6.8/envs/rasa/lib/python3.6/site-packages (from rasa_core) (2.6.0)\n",
      "Requirement already satisfied, skipping upgrade: redis~=2.0 in /Users/sarit/.pyenv/versions/3.6.8/envs/rasa/lib/python3.6/site-packages (from rasa_core) (2.10.6)\n",
      "Requirement already satisfied, skipping upgrade: questionary>=1.0.1 in /Users/sarit/.pyenv/versions/3.6.8/envs/rasa/lib/python3.6/site-packages (from rasa_core) (1.0.2)\n",
      "Requirement already satisfied, skipping upgrade: tqdm~=4.0 in /Users/sarit/.pyenv/versions/3.6.8/envs/rasa/lib/python3.6/site-packages (from rasa_core) (4.30.0)\n",
      "Requirement already satisfied, skipping upgrade: python-telegram-bot~=11.0 in /Users/sarit/.pyenv/versions/3.6.8/envs/rasa/lib/python3.6/site-packages (from rasa_core) (11.1.0)\n",
      "Requirement already satisfied, skipping upgrade: mattermostwrapper~=2.0 in /Users/sarit/.pyenv/versions/3.6.8/envs/rasa/lib/python3.6/site-packages (from rasa_core) (2.1)\n",
      "Requirement already satisfied, skipping upgrade: scikit-learn~=0.20.0 in /Users/sarit/.pyenv/versions/3.6.8/envs/rasa/lib/python3.6/site-packages (from rasa_core) (0.20.2)\n",
      "Requirement already satisfied, skipping upgrade: terminaltables~=3.1 in /Users/sarit/.pyenv/versions/3.6.8/envs/rasa/lib/python3.6/site-packages (from rasa_core) (3.1.0)\n",
      "Requirement already satisfied, skipping upgrade: pydot~=1.4 in /Users/sarit/.pyenv/versions/3.6.8/envs/rasa/lib/python3.6/site-packages (from rasa_core) (1.4.1)\n",
      "Requirement already satisfied, skipping upgrade: rasa-core-sdk~=0.12.1 in /Users/sarit/.pyenv/versions/3.6.8/envs/rasa/lib/python3.6/site-packages (from rasa_core) (0.12.1)\n",
      "Requirement already satisfied, skipping upgrade: pykwalify~=1.7.0 in /Users/sarit/.pyenv/versions/3.6.8/envs/rasa/lib/python3.6/site-packages (from rasa_core) (1.7.0)\n",
      "Requirement already satisfied, skipping upgrade: python-socketio~=3.0 in /Users/sarit/.pyenv/versions/3.6.8/envs/rasa/lib/python3.6/site-packages (from rasa_core) (3.1.1)\n",
      "Requirement already satisfied, skipping upgrade: pytz~=2018.9 in /Users/sarit/.pyenv/versions/3.6.8/envs/rasa/lib/python3.6/site-packages (from rasa_core) (2018.9)\n",
      "Requirement already satisfied, skipping upgrade: networkx~=2.2 in /Users/sarit/.pyenv/versions/3.6.8/envs/rasa/lib/python3.6/site-packages (from rasa_core) (2.2)\n",
      "Requirement already satisfied, skipping upgrade: flask-jwt-simple~=0.0.3 in /Users/sarit/.pyenv/versions/3.6.8/envs/rasa/lib/python3.6/site-packages (from rasa_core) (0.0.3)\n",
      "Requirement already satisfied, skipping upgrade: packaging~=18.0 in /Users/sarit/.pyenv/versions/3.6.8/envs/rasa/lib/python3.6/site-packages (from rasa_core) (18.0)\n",
      "Requirement already satisfied, skipping upgrade: pymongo~=3.7 in /Users/sarit/.pyenv/versions/3.6.8/envs/rasa/lib/python3.6/site-packages (from rasa_core) (3.7.2)\n",
      "Requirement already satisfied, skipping upgrade: webexteamssdk~=1.0 in /Users/sarit/.pyenv/versions/3.6.8/envs/rasa/lib/python3.6/site-packages (from rasa_core) (1.1.1)\n",
      "Requirement already satisfied, skipping upgrade: python-dateutil~=2.7 in /Users/sarit/.pyenv/versions/3.6.8/envs/rasa/lib/python3.6/site-packages (from rasa_core) (2.7.5)\n",
      "Requirement already satisfied, skipping upgrade: tensorflow~=1.12.0 in /Users/sarit/.pyenv/versions/3.6.8/envs/rasa/lib/python3.6/site-packages (from rasa_core) (1.12.0)\n",
      "Requirement already satisfied, skipping upgrade: apscheduler~=3.0 in /Users/sarit/.pyenv/versions/3.6.8/envs/rasa/lib/python3.6/site-packages (from rasa_core) (3.5.3)\n",
      "Requirement already satisfied, skipping upgrade: coloredlogs~=10.0 in /Users/sarit/.pyenv/versions/3.6.8/envs/rasa/lib/python3.6/site-packages (from rasa_core) (10.0)\n",
      "Requirement already satisfied, skipping upgrade: flask~=1.0 in /Users/sarit/.pyenv/versions/3.6.8/envs/rasa/lib/python3.6/site-packages (from rasa_core) (1.0.2)\n",
      "Requirement already satisfied, skipping upgrade: cloudpickle~=0.6.1 in /Users/sarit/.pyenv/versions/3.6.8/envs/rasa/lib/python3.6/site-packages (from rasa_nlu[spacy]) (0.6.1)\n",
      "Requirement already satisfied, skipping upgrade: simplejson~=3.13 in /Users/sarit/.pyenv/versions/3.6.8/envs/rasa/lib/python3.6/site-packages (from rasa_nlu[spacy]) (3.16.0)\n",
      "Requirement already satisfied, skipping upgrade: klein~=17.10 in /Users/sarit/.pyenv/versions/3.6.8/envs/rasa/lib/python3.6/site-packages (from rasa_nlu[spacy]) (17.10.0)\n",
      "Requirement already satisfied, skipping upgrade: future~=0.16.0 in /Users/sarit/.pyenv/versions/3.6.8/envs/rasa/lib/python3.6/site-packages (from rasa_nlu[spacy]) (0.16.0)\n",
      "Requirement already satisfied, skipping upgrade: six~=1.11 in /Users/sarit/.pyenv/versions/3.6.8/envs/rasa/lib/python3.6/site-packages (from rasa_nlu[spacy]) (1.12.0)\n",
      "Requirement already satisfied, skipping upgrade: matplotlib~=2.0 in /Users/sarit/.pyenv/versions/3.6.8/envs/rasa/lib/python3.6/site-packages (from rasa_nlu[spacy]) (2.2.3)\n",
      "Requirement already satisfied, skipping upgrade: boto3~=1.5 in /Users/sarit/.pyenv/versions/3.6.8/envs/rasa/lib/python3.6/site-packages (from rasa_nlu[spacy]) (1.9.86)\n",
      "Requirement already satisfied, skipping upgrade: sklearn-crfsuite~=0.3.6; extra == \"spacy\" in /Users/sarit/.pyenv/versions/3.6.8/envs/rasa/lib/python3.6/site-packages (from rasa_nlu[spacy]) (0.3.6)\n",
      "Requirement already satisfied, skipping upgrade: spacy<=2.0.18,>2.0; extra == \"spacy\" in /Users/sarit/.pyenv/versions/3.6.8/envs/rasa/lib/python3.6/site-packages (from rasa_nlu[spacy]) (2.0.18)\n",
      "Requirement already satisfied, skipping upgrade: chardet<3.1.0,>=3.0.2 in /Users/sarit/.pyenv/versions/3.6.8/envs/rasa/lib/python3.6/site-packages (from requests~=2.20->rasa_core) (3.0.4)\n"
     ]
    },
    {
     "name": "stdout",
     "output_type": "stream",
     "text": [
      "Requirement already satisfied, skipping upgrade: certifi>=2017.4.17 in /Users/sarit/.pyenv/versions/3.6.8/envs/rasa/lib/python3.6/site-packages (from requests~=2.20->rasa_core) (2018.11.29)\n",
      "Requirement already satisfied, skipping upgrade: urllib3<1.25,>=1.21.1 in /Users/sarit/.pyenv/versions/3.6.8/envs/rasa/lib/python3.6/site-packages (from requests~=2.20->rasa_core) (1.24.1)\n",
      "Requirement already satisfied, skipping upgrade: idna<2.8,>=2.5 in /Users/sarit/.pyenv/versions/3.6.8/envs/rasa/lib/python3.6/site-packages (from requests~=2.20->rasa_core) (2.7)\n",
      "Requirement already satisfied, skipping upgrade: websocket-client<1.0a0,>=0.35 in /Users/sarit/.pyenv/versions/3.6.8/envs/rasa/lib/python3.6/site-packages (from slackclient~=1.0->rasa_core) (0.54.0)\n",
      "Requirement already satisfied, skipping upgrade: pysocks; python_version >= \"3.0\" in /Users/sarit/.pyenv/versions/3.6.8/envs/rasa/lib/python3.6/site-packages (from twilio~=6.0->rasa_core) (1.6.8)\n",
      "Requirement already satisfied, skipping upgrade: PyJWT>=1.4.2 in /Users/sarit/.pyenv/versions/3.6.8/envs/rasa/lib/python3.6/site-packages (from twilio~=6.0->rasa_core) (1.7.1)\n",
      "Requirement already satisfied, skipping upgrade: greenlet>=0.4.14; platform_python_implementation == \"CPython\" in /Users/sarit/.pyenv/versions/3.6.8/envs/rasa/lib/python3.6/site-packages (from gevent~=1.4->rasa_core) (0.4.15)\n",
      "Requirement already satisfied, skipping upgrade: prompt-toolkit~=2.0 in /Users/sarit/.pyenv/versions/3.6.8/envs/rasa/lib/python3.6/site-packages (from questionary>=1.0.1->rasa_core) (2.0.7)\n",
      "Requirement already satisfied, skipping upgrade: cryptography in /Users/sarit/.pyenv/versions/3.6.8/envs/rasa/lib/python3.6/site-packages (from python-telegram-bot~=11.0->rasa_core) (2.5)\n",
      "Requirement already satisfied, skipping upgrade: pyparsing>=2.1.4 in /Users/sarit/.pyenv/versions/3.6.8/envs/rasa/lib/python3.6/site-packages (from pydot~=1.4->rasa_core) (2.3.1)\n",
      "Requirement already satisfied, skipping upgrade: ConfigArgParse~=0.13.0 in /Users/sarit/.pyenv/versions/3.6.8/envs/rasa/lib/python3.6/site-packages (from rasa-core-sdk~=0.12.1->rasa_core) (0.13.0)\n",
      "Requirement already satisfied, skipping upgrade: docopt>=0.6.2 in /Users/sarit/.pyenv/versions/3.6.8/envs/rasa/lib/python3.6/site-packages (from pykwalify~=1.7.0->rasa_core) (0.6.2)\n",
      "Requirement already satisfied, skipping upgrade: PyYAML>=3.11 in /Users/sarit/.pyenv/versions/3.6.8/envs/rasa/lib/python3.6/site-packages (from pykwalify~=1.7.0->rasa_core) (3.13)\n",
      "Requirement already satisfied, skipping upgrade: python-engineio>=3.2.0 in /Users/sarit/.pyenv/versions/3.6.8/envs/rasa/lib/python3.6/site-packages (from python-socketio~=3.0->rasa_core) (3.3.0)\n",
      "Requirement already satisfied, skipping upgrade: decorator>=4.3.0 in /Users/sarit/.pyenv/versions/3.6.8/envs/rasa/lib/python3.6/site-packages (from networkx~=2.2->rasa_core) (4.3.2)\n",
      "Requirement already satisfied, skipping upgrade: requests-toolbelt in /Users/sarit/.pyenv/versions/3.6.8/envs/rasa/lib/python3.6/site-packages (from webexteamssdk~=1.0->rasa_core) (0.8.0)\n",
      "Requirement already satisfied, skipping upgrade: absl-py>=0.1.6 in /Users/sarit/.pyenv/versions/3.6.8/envs/rasa/lib/python3.6/site-packages (from tensorflow~=1.12.0->rasa_core) (0.7.0)\n",
      "Requirement already satisfied, skipping upgrade: keras-preprocessing>=1.0.5 in /Users/sarit/.pyenv/versions/3.6.8/envs/rasa/lib/python3.6/site-packages (from tensorflow~=1.12.0->rasa_core) (1.0.5)\n",
      "Requirement already satisfied, skipping upgrade: tensorboard<1.13.0,>=1.12.0 in /Users/sarit/.pyenv/versions/3.6.8/envs/rasa/lib/python3.6/site-packages (from tensorflow~=1.12.0->rasa_core) (1.12.2)\n",
      "Requirement already satisfied, skipping upgrade: wheel>=0.26 in /Users/sarit/.pyenv/versions/3.6.8/envs/rasa/lib/python3.6/site-packages (from tensorflow~=1.12.0->rasa_core) (0.32.3)\n",
      "Requirement already satisfied, skipping upgrade: termcolor>=1.1.0 in /Users/sarit/.pyenv/versions/3.6.8/envs/rasa/lib/python3.6/site-packages (from tensorflow~=1.12.0->rasa_core) (1.1.0)\n",
      "Requirement already satisfied, skipping upgrade: keras-applications>=1.0.6 in /Users/sarit/.pyenv/versions/3.6.8/envs/rasa/lib/python3.6/site-packages (from tensorflow~=1.12.0->rasa_core) (1.0.6)\n",
      "Requirement already satisfied, skipping upgrade: astor>=0.6.0 in /Users/sarit/.pyenv/versions/3.6.8/envs/rasa/lib/python3.6/site-packages (from tensorflow~=1.12.0->rasa_core) (0.7.1)\n",
      "Requirement already satisfied, skipping upgrade: protobuf>=3.6.1 in /Users/sarit/.pyenv/versions/3.6.8/envs/rasa/lib/python3.6/site-packages (from tensorflow~=1.12.0->rasa_core) (3.6.1)\n",
      "Requirement already satisfied, skipping upgrade: grpcio>=1.8.6 in /Users/sarit/.pyenv/versions/3.6.8/envs/rasa/lib/python3.6/site-packages (from tensorflow~=1.12.0->rasa_core) (1.18.0)\n",
      "Requirement already satisfied, skipping upgrade: gast>=0.2.0 in /Users/sarit/.pyenv/versions/3.6.8/envs/rasa/lib/python3.6/site-packages (from tensorflow~=1.12.0->rasa_core) (0.2.2)\n",
      "Requirement already satisfied, skipping upgrade: setuptools>=0.7 in /Users/sarit/.pyenv/versions/3.6.8/envs/rasa/lib/python3.6/site-packages (from apscheduler~=3.0->rasa_core) (40.6.2)\n",
      "Requirement already satisfied, skipping upgrade: tzlocal>=1.2 in /Users/sarit/.pyenv/versions/3.6.8/envs/rasa/lib/python3.6/site-packages (from apscheduler~=3.0->rasa_core) (1.5.1)\n",
      "Requirement already satisfied, skipping upgrade: humanfriendly>=4.7 in /Users/sarit/.pyenv/versions/3.6.8/envs/rasa/lib/python3.6/site-packages (from coloredlogs~=10.0->rasa_core) (4.17)\n",
      "Requirement already satisfied, skipping upgrade: click>=5.1 in /Users/sarit/.pyenv/versions/3.6.8/envs/rasa/lib/python3.6/site-packages (from flask~=1.0->rasa_core) (7.0)\n",
      "Requirement already satisfied, skipping upgrade: itsdangerous>=0.24 in /Users/sarit/.pyenv/versions/3.6.8/envs/rasa/lib/python3.6/site-packages (from flask~=1.0->rasa_core) (1.1.0)\n",
      "Requirement already satisfied, skipping upgrade: Werkzeug>=0.14 in /Users/sarit/.pyenv/versions/3.6.8/envs/rasa/lib/python3.6/site-packages (from flask~=1.0->rasa_core) (0.14.1)\n",
      "Requirement already satisfied, skipping upgrade: Jinja2>=2.10 in /Users/sarit/.pyenv/versions/3.6.8/envs/rasa/lib/python3.6/site-packages (from flask~=1.0->rasa_core) (2.10)\n",
      "Requirement already satisfied, skipping upgrade: Twisted>=15.5 in /Users/sarit/.pyenv/versions/3.6.8/envs/rasa/lib/python3.6/site-packages (from klein~=17.10->rasa_nlu[spacy]) (18.9.0)\n",
      "Requirement already satisfied, skipping upgrade: incremental in /Users/sarit/.pyenv/versions/3.6.8/envs/rasa/lib/python3.6/site-packages (from klein~=17.10->rasa_nlu[spacy]) (17.5.0)\n",
      "Requirement already satisfied, skipping upgrade: cycler>=0.10 in /Users/sarit/.pyenv/versions/3.6.8/envs/rasa/lib/python3.6/site-packages (from matplotlib~=2.0->rasa_nlu[spacy]) (0.10.0)\n",
      "Requirement already satisfied, skipping upgrade: kiwisolver>=1.0.1 in /Users/sarit/.pyenv/versions/3.6.8/envs/rasa/lib/python3.6/site-packages (from matplotlib~=2.0->rasa_nlu[spacy]) (1.0.1)\n",
      "Requirement already satisfied, skipping upgrade: botocore<1.13.0,>=1.12.86 in /Users/sarit/.pyenv/versions/3.6.8/envs/rasa/lib/python3.6/site-packages (from boto3~=1.5->rasa_nlu[spacy]) (1.12.86)\n",
      "Requirement already satisfied, skipping upgrade: jmespath<1.0.0,>=0.7.1 in /Users/sarit/.pyenv/versions/3.6.8/envs/rasa/lib/python3.6/site-packages (from boto3~=1.5->rasa_nlu[spacy]) (0.9.3)\n",
      "Requirement already satisfied, skipping upgrade: s3transfer<0.2.0,>=0.1.10 in /Users/sarit/.pyenv/versions/3.6.8/envs/rasa/lib/python3.6/site-packages (from boto3~=1.5->rasa_nlu[spacy]) (0.1.13)\n",
      "Requirement already satisfied, skipping upgrade: tabulate in /Users/sarit/.pyenv/versions/3.6.8/envs/rasa/lib/python3.6/site-packages (from sklearn-crfsuite~=0.3.6; extra == \"spacy\"->rasa_nlu[spacy]) (0.8.3)\n",
      "Requirement already satisfied, skipping upgrade: python-crfsuite>=0.8.3 in /Users/sarit/.pyenv/versions/3.6.8/envs/rasa/lib/python3.6/site-packages (from sklearn-crfsuite~=0.3.6; extra == \"spacy\"->rasa_nlu[spacy]) (0.9.6)\n",
      "Requirement already satisfied, skipping upgrade: ujson>=1.35 in /Users/sarit/.pyenv/versions/3.6.8/envs/rasa/lib/python3.6/site-packages (from spacy<=2.0.18,>2.0; extra == \"spacy\"->rasa_nlu[spacy]) (1.35)\n",
      "Requirement already satisfied, skipping upgrade: murmurhash<1.1.0,>=0.28.0 in /Users/sarit/.pyenv/versions/3.6.8/envs/rasa/lib/python3.6/site-packages (from spacy<=2.0.18,>2.0; extra == \"spacy\"->rasa_nlu[spacy]) (1.0.1)\n",
      "Requirement already satisfied, skipping upgrade: thinc<6.13.0,>=6.12.1 in /Users/sarit/.pyenv/versions/3.6.8/envs/rasa/lib/python3.6/site-packages (from spacy<=2.0.18,>2.0; extra == \"spacy\"->rasa_nlu[spacy]) (6.12.1)\n"
     ]
    },
    {
     "name": "stdout",
     "output_type": "stream",
     "text": [
      "Requirement already satisfied, skipping upgrade: dill<0.3,>=0.2 in /Users/sarit/.pyenv/versions/3.6.8/envs/rasa/lib/python3.6/site-packages (from spacy<=2.0.18,>2.0; extra == \"spacy\"->rasa_nlu[spacy]) (0.2.9)\n",
      "Requirement already satisfied, skipping upgrade: cymem<2.1.0,>=2.0.2 in /Users/sarit/.pyenv/versions/3.6.8/envs/rasa/lib/python3.6/site-packages (from spacy<=2.0.18,>2.0; extra == \"spacy\"->rasa_nlu[spacy]) (2.0.2)\n",
      "Requirement already satisfied, skipping upgrade: regex==2018.01.10 in /Users/sarit/.pyenv/versions/3.6.8/envs/rasa/lib/python3.6/site-packages (from spacy<=2.0.18,>2.0; extra == \"spacy\"->rasa_nlu[spacy]) (2018.1.10)\n",
      "Requirement already satisfied, skipping upgrade: plac<1.0.0,>=0.9.6 in /Users/sarit/.pyenv/versions/3.6.8/envs/rasa/lib/python3.6/site-packages (from spacy<=2.0.18,>2.0; extra == \"spacy\"->rasa_nlu[spacy]) (0.9.6)\n",
      "Requirement already satisfied, skipping upgrade: preshed<2.1.0,>=2.0.1 in /Users/sarit/.pyenv/versions/3.6.8/envs/rasa/lib/python3.6/site-packages (from spacy<=2.0.18,>2.0; extra == \"spacy\"->rasa_nlu[spacy]) (2.0.1)\n",
      "Requirement already satisfied, skipping upgrade: wcwidth in /Users/sarit/.pyenv/versions/3.6.8/envs/rasa/lib/python3.6/site-packages (from prompt-toolkit~=2.0->questionary>=1.0.1->rasa_core) (0.1.7)\n",
      "Requirement already satisfied, skipping upgrade: asn1crypto>=0.21.0 in /Users/sarit/.pyenv/versions/3.6.8/envs/rasa/lib/python3.6/site-packages (from cryptography->python-telegram-bot~=11.0->rasa_core) (0.24.0)\n",
      "Requirement already satisfied, skipping upgrade: cffi!=1.11.3,>=1.8 in /Users/sarit/.pyenv/versions/3.6.8/envs/rasa/lib/python3.6/site-packages (from cryptography->python-telegram-bot~=11.0->rasa_core) (1.11.5)\n",
      "Requirement already satisfied, skipping upgrade: markdown>=2.6.8 in /Users/sarit/.pyenv/versions/3.6.8/envs/rasa/lib/python3.6/site-packages (from tensorboard<1.13.0,>=1.12.0->tensorflow~=1.12.0->rasa_core) (3.0.1)\n",
      "Requirement already satisfied, skipping upgrade: h5py in /Users/sarit/.pyenv/versions/3.6.8/envs/rasa/lib/python3.6/site-packages (from keras-applications>=1.0.6->tensorflow~=1.12.0->rasa_core) (2.9.0)\n",
      "Requirement already satisfied, skipping upgrade: MarkupSafe>=0.23 in /Users/sarit/.pyenv/versions/3.6.8/envs/rasa/lib/python3.6/site-packages (from Jinja2>=2.10->flask~=1.0->rasa_core) (1.1.0)\n",
      "Requirement already satisfied, skipping upgrade: zope.interface>=4.4.2 in /Users/sarit/.pyenv/versions/3.6.8/envs/rasa/lib/python3.6/site-packages (from Twisted>=15.5->klein~=17.10->rasa_nlu[spacy]) (4.6.0)\n",
      "Requirement already satisfied, skipping upgrade: constantly>=15.1 in /Users/sarit/.pyenv/versions/3.6.8/envs/rasa/lib/python3.6/site-packages (from Twisted>=15.5->klein~=17.10->rasa_nlu[spacy]) (15.1.0)\n",
      "Requirement already satisfied, skipping upgrade: Automat>=0.3.0 in /Users/sarit/.pyenv/versions/3.6.8/envs/rasa/lib/python3.6/site-packages (from Twisted>=15.5->klein~=17.10->rasa_nlu[spacy]) (0.7.0)\n",
      "Requirement already satisfied, skipping upgrade: hyperlink>=17.1.1 in /Users/sarit/.pyenv/versions/3.6.8/envs/rasa/lib/python3.6/site-packages (from Twisted>=15.5->klein~=17.10->rasa_nlu[spacy]) (18.0.0)\n",
      "Requirement already satisfied, skipping upgrade: PyHamcrest>=1.9.0 in /Users/sarit/.pyenv/versions/3.6.8/envs/rasa/lib/python3.6/site-packages (from Twisted>=15.5->klein~=17.10->rasa_nlu[spacy]) (1.9.0)\n",
      "Requirement already satisfied, skipping upgrade: attrs>=17.4.0 in /Users/sarit/.pyenv/versions/3.6.8/envs/rasa/lib/python3.6/site-packages (from Twisted>=15.5->klein~=17.10->rasa_nlu[spacy]) (18.2.0)\n",
      "Requirement already satisfied, skipping upgrade: docutils>=0.10 in /Users/sarit/.pyenv/versions/3.6.8/envs/rasa/lib/python3.6/site-packages (from botocore<1.13.0,>=1.12.86->boto3~=1.5->rasa_nlu[spacy]) (0.14)\n",
      "Requirement already satisfied, skipping upgrade: msgpack<0.6.0,>=0.5.6 in /Users/sarit/.pyenv/versions/3.6.8/envs/rasa/lib/python3.6/site-packages (from thinc<6.13.0,>=6.12.1->spacy<=2.0.18,>2.0; extra == \"spacy\"->rasa_nlu[spacy]) (0.5.6)\n",
      "Requirement already satisfied, skipping upgrade: cytoolz<0.10,>=0.9.0 in /Users/sarit/.pyenv/versions/3.6.8/envs/rasa/lib/python3.6/site-packages (from thinc<6.13.0,>=6.12.1->spacy<=2.0.18,>2.0; extra == \"spacy\"->rasa_nlu[spacy]) (0.9.0.1)\n",
      "Requirement already satisfied, skipping upgrade: wrapt<1.11.0,>=1.10.0 in /Users/sarit/.pyenv/versions/3.6.8/envs/rasa/lib/python3.6/site-packages (from thinc<6.13.0,>=6.12.1->spacy<=2.0.18,>2.0; extra == \"spacy\"->rasa_nlu[spacy]) (1.10.11)\n",
      "Requirement already satisfied, skipping upgrade: msgpack-numpy<0.4.4 in /Users/sarit/.pyenv/versions/3.6.8/envs/rasa/lib/python3.6/site-packages (from thinc<6.13.0,>=6.12.1->spacy<=2.0.18,>2.0; extra == \"spacy\"->rasa_nlu[spacy]) (0.4.3.2)\n",
      "Requirement already satisfied, skipping upgrade: pycparser in /Users/sarit/.pyenv/versions/3.6.8/envs/rasa/lib/python3.6/site-packages (from cffi!=1.11.3,>=1.8->cryptography->python-telegram-bot~=11.0->rasa_core) (2.19)\n",
      "Requirement already satisfied, skipping upgrade: toolz>=0.8.0 in /Users/sarit/.pyenv/versions/3.6.8/envs/rasa/lib/python3.6/site-packages (from cytoolz<0.10,>=0.9.0->thinc<6.13.0,>=6.12.1->spacy<=2.0.18,>2.0; extra == \"spacy\"->rasa_nlu[spacy]) (0.9.0)\n",
      "\u001b[33mYou are using pip version 18.1, however version 19.0.1 is available.\n",
      "You should consider upgrading via the 'pip install --upgrade pip' command.\u001b[0m\n"
     ]
    }
   ],
   "source": [
    "# In your environment run:\n",
    "!{python} -m pip install -U rasa_core rasa_nlu[spacy];\n"
   ]
  },
  {
   "cell_type": "code",
   "execution_count": 3,
   "metadata": {},
   "outputs": [
    {
     "name": "stdout",
     "output_type": "stream",
     "text": [
      "Requirement already satisfied: en_core_web_md==2.0.0 from https://github.com/explosion/spacy-models/releases/download/en_core_web_md-2.0.0/en_core_web_md-2.0.0.tar.gz#egg=en_core_web_md==2.0.0 in /Users/sarit/.pyenv/versions/3.6.8/envs/rasa/lib/python3.6/site-packages (2.0.0)\n",
      "\u001b[33mYou are using pip version 18.1, however version 19.0.1 is available.\n",
      "You should consider upgrading via the 'pip install --upgrade pip' command.\u001b[0m\n",
      "\n",
      "\u001b[93m    Linking successful\u001b[0m\n",
      "    /Users/sarit/.pyenv/versions/3.6.8/envs/rasa/lib/python3.6/site-packages/en_core_web_md\n",
      "    -->\n",
      "    /Users/sarit/.pyenv/versions/3.6.8/envs/rasa/lib/python3.6/site-packages/spacy/data/en_core_web_md\n",
      "\n",
      "    You can now load the model via spacy.load('en_core_web_md')\n",
      "\n",
      "\n",
      "\u001b[93m    Linking successful\u001b[0m\n",
      "    /Users/sarit/.pyenv/versions/3.6.8/envs/rasa/lib/python3.6/site-packages/en_core_web_md\n",
      "    -->\n",
      "    /Users/sarit/.pyenv/versions/3.6.8/envs/rasa/lib/python3.6/site-packages/spacy/data/en\n",
      "\n",
      "    You can now load the model via spacy.load('en')\n",
      "\n"
     ]
    }
   ],
   "source": [
    "# as well as install a language model:\n",
    "!{python} -m spacy download en_core_web_md\n",
    "!{python} -m spacy link en_core_web_md en --force;"
   ]
  },
  {
   "cell_type": "markdown",
   "metadata": {},
   "source": [
    "Let's test the installation - we should have rasa_nlu: 0.12.3 and rasa_core: 0.9.6 installed, and spacy model should be available."
   ]
  },
  {
   "cell_type": "code",
   "execution_count": 4,
   "metadata": {},
   "outputs": [
    {
     "name": "stdout",
     "output_type": "stream",
     "text": [
      "rasa_nlu: 0.14.1 rasa_core: 0.13.0\n",
      "Loading spaCy language model...\n",
      "Hello world!\n"
     ]
    }
   ],
   "source": [
    "import rasa_nlu\n",
    "import rasa_core\n",
    "import spacy\n",
    "\n",
    "print(\"rasa_nlu: {} rasa_core: {}\".format(rasa_nlu.__version__, rasa_core.__version__))\n",
    "print(\"Loading spaCy language model...\")\n",
    "print(spacy.load(\"en\")(\"Hello world!\"))"
   ]
  },
  {
   "cell_type": "markdown",
   "metadata": {},
   "source": [
    "### Some additional Tools needed\n",
    "To do some of the visualizations you will also need graphviz. If you don't have graphviz installed, and this doesn't work: don't worry. I'll show you the graph and besides that visualization everything else will work.\n",
    "\n",
    "Try installing with anyone of these (or adapt to your operating system):"
   ]
  },
  {
   "cell_type": "code",
   "execution_count": 7,
   "metadata": {},
   "outputs": [
    {
     "name": "stdout",
     "output_type": "stream",
     "text": [
      "[sudo] password for jovyan: \n"
     ]
    }
   ],
   "source": [
    "!sudo apt-get -qq install -y graphviz libgraphviz-dev pkg-config;\n",
    "#!brew install graphviz"
   ]
  },
  {
   "cell_type": "markdown",
   "metadata": {},
   "source": [
    "and another python package and we are ready to go:"
   ]
  },
  {
   "cell_type": "code",
   "execution_count": 5,
   "metadata": {},
   "outputs": [
    {
     "name": "stdout",
     "output_type": "stream",
     "text": [
      "Requirement already satisfied: pygraphviz in /Users/sarit/.pyenv/versions/3.6.8/envs/rasa/lib/python3.6/site-packages (1.5)\n",
      "\u001b[33mYou are using pip version 18.1, however version 19.0.1 is available.\n",
      "You should consider upgrading via the 'pip install --upgrade pip' command.\u001b[0m\n"
     ]
    }
   ],
   "source": [
    "!{python} -m pip install pygraphviz;"
   ]
  },
  {
   "cell_type": "code",
   "execution_count": 6,
   "metadata": {
    "scrolled": true
   },
   "outputs": [
    {
     "name": "stdout",
     "output_type": "stream",
     "text": [
      "Collecting https://github.com/PyThaiNLP/pythainlp/archive/dev.zip\n",
      "  Downloading https://github.com/PyThaiNLP/pythainlp/archive/dev.zip\n",
      "\u001b[K     \\ 13.9MB 50.3MB/s\n",
      "Requirement already satisfied (use --upgrade to upgrade): pythainlp==2.0 from https://github.com/PyThaiNLP/pythainlp/archive/dev.zip in /Users/sarit/.pyenv/versions/3.6.8/envs/rasa/lib/python3.6/site-packages\n",
      "Requirement already satisfied: dill in /Users/sarit/.pyenv/versions/3.6.8/envs/rasa/lib/python3.6/site-packages (from pythainlp==2.0) (0.2.9)\n",
      "Requirement already satisfied: marisa_trie in /Users/sarit/.pyenv/versions/3.6.8/envs/rasa/lib/python3.6/site-packages (from pythainlp==2.0) (0.7.5)\n",
      "Requirement already satisfied: nltk>=3.2.2 in /Users/sarit/.pyenv/versions/3.6.8/envs/rasa/lib/python3.6/site-packages (from pythainlp==2.0) (3.4)\n",
      "Requirement already satisfied: pytz in /Users/sarit/.pyenv/versions/3.6.8/envs/rasa/lib/python3.6/site-packages (from pythainlp==2.0) (2018.9)\n",
      "Requirement already satisfied: requests in /Users/sarit/.pyenv/versions/3.6.8/envs/rasa/lib/python3.6/site-packages (from pythainlp==2.0) (2.20.1)\n",
      "Requirement already satisfied: tinydb in /Users/sarit/.pyenv/versions/3.6.8/envs/rasa/lib/python3.6/site-packages (from pythainlp==2.0) (3.12.2)\n",
      "Requirement already satisfied: tqdm in /Users/sarit/.pyenv/versions/3.6.8/envs/rasa/lib/python3.6/site-packages (from pythainlp==2.0) (4.30.0)\n",
      "Requirement already satisfied: six in /Users/sarit/.pyenv/versions/3.6.8/envs/rasa/lib/python3.6/site-packages (from nltk>=3.2.2->pythainlp==2.0) (1.12.0)\n",
      "Requirement already satisfied: singledispatch in /Users/sarit/.pyenv/versions/3.6.8/envs/rasa/lib/python3.6/site-packages (from nltk>=3.2.2->pythainlp==2.0) (3.4.0.3)\n",
      "Requirement already satisfied: idna<2.8,>=2.5 in /Users/sarit/.pyenv/versions/3.6.8/envs/rasa/lib/python3.6/site-packages (from requests->pythainlp==2.0) (2.7)\n",
      "Requirement already satisfied: certifi>=2017.4.17 in /Users/sarit/.pyenv/versions/3.6.8/envs/rasa/lib/python3.6/site-packages (from requests->pythainlp==2.0) (2018.11.29)\n",
      "Requirement already satisfied: urllib3<1.25,>=1.21.1 in /Users/sarit/.pyenv/versions/3.6.8/envs/rasa/lib/python3.6/site-packages (from requests->pythainlp==2.0) (1.24.1)\n",
      "Requirement already satisfied: chardet<3.1.0,>=3.0.2 in /Users/sarit/.pyenv/versions/3.6.8/envs/rasa/lib/python3.6/site-packages (from requests->pythainlp==2.0) (3.0.4)\n",
      "Building wheels for collected packages: pythainlp\n",
      "  Running setup.py bdist_wheel for pythainlp ... \u001b[?25ldone\n",
      "\u001b[?25h  Stored in directory: /private/var/folders/h5/lj3c5_050j3_yjd77zqxcn7r0000gp/T/pip-ephem-wheel-cache-_odzptnc/wheels/79/4e/1e/26f3198c6712ecfbee92928ed1dde923a078da3d222401cc78\n",
      "Successfully built pythainlp\n",
      "\u001b[33mYou are using pip version 18.1, however version 19.0.1 is available.\n",
      "You should consider upgrading via the 'pip install --upgrade pip' command.\u001b[0m\n",
      "Requirement already satisfied: sklearn_crfsuite in /Users/sarit/.pyenv/versions/3.6.8/envs/rasa/lib/python3.6/site-packages (0.3.6)\n",
      "Requirement already satisfied: tabulate in /Users/sarit/.pyenv/versions/3.6.8/envs/rasa/lib/python3.6/site-packages (from sklearn_crfsuite) (0.8.3)\n",
      "Requirement already satisfied: python-crfsuite>=0.8.3 in /Users/sarit/.pyenv/versions/3.6.8/envs/rasa/lib/python3.6/site-packages (from sklearn_crfsuite) (0.9.6)\n",
      "Requirement already satisfied: tqdm>=2.0 in /Users/sarit/.pyenv/versions/3.6.8/envs/rasa/lib/python3.6/site-packages (from sklearn_crfsuite) (4.30.0)\n",
      "Requirement already satisfied: six in /Users/sarit/.pyenv/versions/3.6.8/envs/rasa/lib/python3.6/site-packages (from sklearn_crfsuite) (1.12.0)\n",
      "\u001b[33mYou are using pip version 18.1, however version 19.0.1 is available.\n",
      "You should consider upgrading via the 'pip install --upgrade pip' command.\u001b[0m\n"
     ]
    }
   ],
   "source": [
    "!pip install https://github.com/PyThaiNLP/pythainlp/archive/dev.zip\n",
    "!pip install sklearn_crfsuite"
   ]
  },
  {
   "cell_type": "markdown",
   "metadata": {},
   "source": [
    "## Part 1: Natural Language Understanding\n",
    "\n",
    "At first, let's teach our chatbot how to understand user inputs. To do that, we are going to build a Rasa NLU model. Here is some data to get started: "
   ]
  },
  {
   "cell_type": "markdown",
   "metadata": {},
   "source": [
    "**Conversation_1:**   \n",
    "U: Hello  \n",
    "B: Hello, how are you doing?  \n",
    "U: I am doing great!  \n",
    "B: Great. Carry on!  \n",
    "    \n",
    "**Conversation_2:**  \n",
    "U: Hey  \n",
    "B: Hello, how are you doing?  \n",
    "U: I am very sad  \n",
    "B: To cheer you up, I can show you a cute picture of a cat, a dog or a bird. Choose one :)  \n",
    "U: A kitten  \n",
    "B: Here is something to cheer you up. Did that help?  \n",
    "U: Yes  \n",
    "B: Goodbye  \n",
    "  \n",
    "**Conversation_3:**    \n",
    "U: Heya  \n",
    "B: Hello, how are you doing?  \n",
    "U: Not so good and the only thing that could help me feel better is a picture of a puppy  \n",
    "B: Here is something to cheer you up. Did that help?  \n",
    "U: No  \n",
    "B: Goodbye  \n",
    "U: Bye  \n",
    "\n",
    "**Conversation_1:**\n",
    "U: หวัดดี\n",
    "B: สวัสดีครับ รับลูกอมสีอะไรดีครับ?\n",
    "U: มีแต่ลูกอมเหรอ\n",
    "B: ใช่ครับ ผมเชียร์อยู่อย่างเดียว\n",
    "U: bye\n",
    "\n",
    "**Conversation_2:**\n",
    "U: hi\n",
    "B: สวัสดีครับ รับลูกอมสีอะไรดีครับ?\n",
    "U: ขายยังไง\n",
    "B: มี 3 สี ได้แก่ แดง เขียว และนำ้เงิน ขายราคาเม็ดละ 0.5 บาท ครับ\n",
    "U: แดง 10 เม็ด\n",
    "B: ใบเสร็จหมายเลข 111 ครับ ชำระเงินที่เคาร์เตอร์หมายเลข 1 ครับ\n",
    "U: ขอบใจ\n",
    "B: ยินดีรับใช้ครับ\n",
    "\n",
    "**Conversation_3:**\n",
    "U: สวัสดีครับ\n",
    "B: สวัสดีครับ รับลูกอมสีอะไรดีครับ?\n",
    "U: มีสีอะไรมั่ง\n",
    "B: แดง เขียว นำ้เงิน\n",
    "U: ลูกอมหรือหลอดไฟว่ะ?\n",
    "B: ลูกอมจริงๆ ครับ สารสกัดธรรมชาติแต๊ๆ\n",
    "U: ราคาเท่าไหร่\n",
    "B: รับกี่เม็ดครับ\n",
    "U: 10\n",
    "B: ใบเสร็จหมายเลข 111 ครับ ชำระเงินที่เคาร์เตอร์หมายเลข 1 ครับ\n",
    "U: bye\n",
    "B: ยินดีรับใช้ครับ"
   ]
  },
  {
   "cell_type": "markdown",
   "metadata": {},
   "source": [
    "### Creating the training data for language understanding model\n",
    "\n",
    "\n",
    "Lets create some training data here, grouping user messages by their `intents`. The intent describes what the messages *mean*. Another important part of training data are `entities` - pieces of information which help a chatbot understand what specifically a user is asking about. Entities are labeled using the markdown link syntex: `[entity value](entity_type)` [More information about the data format](https://nlu.rasa.com/dataformat.html#markdown-format)."
   ]
  },
  {
   "cell_type": "markdown",
   "metadata": {},
   "source": [
    "- หวัดดี [Thomas](PERSON)\n",
    "- หนีเห่า [El](PERSON)\n",
    "- รถ [Benz](CAR) สวย\n",
    "- รถ [Acura](CAR) งามแท้\n",
    "\n",
    "\n",
    "- สี[เขียว](COLOR)เท่าไหร่\n",
    "- สี[เขียว](COLOR)ราคาเท่าไหร่\n",
    "\n",
    "- มีลูกอมอะไรบ้าง\n",
    "- มีสินค้าอะไรบ้าง\n",
    "- มีอะไรบ้าง\n",
    "\n",
    "## intent:query\n",
    "- สี[เขียว](COLOR)เท่าไหร่\n",
    "- สี[เขียว](COLOR)ราคาเท่าไหร่\n",
    "\n",
    "\n",
    "## intent:greet\n",
    "- hey\n",
    "- รถ [Benz](CAR) สวย\n",
    "- รถ [Acura](CAR) งามแท้\n",
    "\n",
    "## intent:goodbye\n",
    "- cu\n",
    "- good by\n",
    "- cee you later\n",
    "- ลาก่อย\n",
    "- บาย\n",
    "- บ๊าย บาย\n",
    "- บัย"
   ]
  },
  {
   "cell_type": "code",
   "execution_count": 3,
   "metadata": {},
   "outputs": [
    {
     "name": "stdout",
     "output_type": "stream",
     "text": [
      "Writing 'nlu_md' (str) to file 'nlu.md'.\n"
     ]
    }
   ],
   "source": [
    "nlu_md = \"\"\"\n",
    "## intent:greet\n",
    "- hey\n",
    "- hello [Peter](PERSON)\n",
    "- hi [Andrew](PERSON)\n",
    "- รถ [Benz](CAR) สวย\n",
    "- รถ [Acura](CAR) งามแท้\n",
    "\n",
    "## intent:query\n",
    "- สี[เขียว](COLOR)เท่าไหร่\n",
    "- สี[เขียว](COLOR)ราคาเท่าไหร่\n",
    "\n",
    "\"\"\"\n",
    "\n",
    "%store nlu_md > nlu.md"
   ]
  },
  {
   "cell_type": "markdown",
   "metadata": {},
   "source": [
    "### Defining the NLU model"
   ]
  },
  {
   "cell_type": "markdown",
   "metadata": {},
   "source": [
    "Once the training data is ready, we can define our NLU model. We can do that by constructing the processing pipeline which defines how structured data is extracted from unstructured user inputs. "
   ]
  },
  {
   "cell_type": "code",
   "execution_count": 1,
   "metadata": {},
   "outputs": [
    {
     "name": "stdout",
     "output_type": "stream",
     "text": [
      "Writing 'config' (str) to file 'config.yml'.\n"
     ]
    }
   ],
   "source": [
    "config = \"\"\"\n",
    "language: \"en\"\n",
    "\n",
    "pipeline:\n",
    "- name: \"sentiment.LextoTokenizer\"\n",
    "- name: \"ner_crf\"\n",
    "- name: \"ner_synonyms\"\n",
    "- name: \"intent_featurizer_count_vectors\"\n",
    "- name: \"intent_classifier_tensorflow_embedding\"\n",
    "\n",
    "\"\"\" \n",
    "\n",
    "%store config > config.yml"
   ]
  },
  {
   "cell_type": "markdown",
   "metadata": {},
   "source": [
    "### Training the Rasa NLU Model\n",
    "\n",
    "We're going to train a model to recognise user inputs, so that when you send a message like \"hello\" to your bot, it will recognise this as a `\"greet\"` intent."
   ]
  },
  {
   "cell_type": "code",
   "execution_count": 14,
   "metadata": {},
   "outputs": [
    {
     "name": "stderr",
     "output_type": "stream",
     "text": [
      "INFO:rasa_nlu.training_data.loading:Training data format of nlu.md is md\n",
      "INFO:rasa_nlu.training_data.training_data:Training data stats: \n",
      "\t- intent examples: 7 (2 distinct intents)\n",
      "\t- Found intents: 'greet', 'query'\n",
      "\t- entity examples: 6 (3 distinct entities)\n",
      "\t- found entities: 'PERSON', 'COLOR', 'CAR'\n",
      "\n",
      "INFO:rasa_nlu.model:Starting to train component tokenizer_pylexto\n",
      "INFO:rasa_nlu.model:Finished training component.\n",
      "INFO:rasa_nlu.model:Starting to train component ner_crf\n",
      "INFO:rasa_nlu.model:Finished training component.\n",
      "INFO:rasa_nlu.model:Starting to train component ner_synonyms\n",
      "INFO:rasa_nlu.model:Finished training component.\n",
      "INFO:rasa_nlu.model:Starting to train component intent_featurizer_count_vectors\n",
      "INFO:rasa_nlu.model:Finished training component.\n",
      "INFO:rasa_nlu.model:Starting to train component intent_classifier_tensorflow_embedding\n",
      "INFO:rasa_nlu.classifiers.embedding_intent_classifier:Accuracy is updated every 10 epochs\n",
      "Epochs: 100%|██████████| 300/300 [00:02<00:00, 149.90it/s, loss=0.080, acc=1.000]\n",
      "INFO:rasa_nlu.classifiers.embedding_intent_classifier:Finished training embedding classifier, loss=0.080, train accuracy=1.000\n",
      "INFO:rasa_nlu.model:Finished training component.\n",
      "INFO:rasa_nlu.model:Successfully saved model into '/Users/sarit/mein-codes/rasa-workshop-pydata-berlin/models/nlu/default/current'\n"
     ]
    }
   ],
   "source": [
    "# Thai Tokenizer\n",
    "\n",
    "from rasa_nlu.training_data import load_data\n",
    "from rasa_nlu.config import RasaNLUModelConfig\n",
    "from rasa_nlu.model import Trainer\n",
    "from rasa_nlu import config\n",
    "\n",
    "# loading the nlu training samples\n",
    "training_data = load_data(\"nlu.md\")\n",
    "\n",
    "# trainer to educate our pipeline\n",
    "trainer = Trainer(config.load(\"config.yml\"))\n",
    "\n",
    "# train the model!\n",
    "interpreter = trainer.train(training_data)\n",
    "\n",
    "# store it for future use\n",
    "model_directory = trainer.persist(\"./models/nlu\", fixed_model_name=\"current\")"
   ]
  },
  {
   "cell_type": "markdown",
   "metadata": {},
   "source": [
    "### Using & evaluating the NLU model"
   ]
  },
  {
   "cell_type": "markdown",
   "metadata": {},
   "source": [
    "Let's see how the model is performing on some of the inputs:"
   ]
  },
  {
   "cell_type": "code",
   "execution_count": 20,
   "metadata": {},
   "outputs": [
    {
     "name": "stdout",
     "output_type": "stream",
     "text": [
      "{'entities': [{'confidence': 0.8922179196177388,\n",
      "               'end': 7,\n",
      "               'entity': 'COLOR',\n",
      "               'extractor': 'ner_crf',\n",
      "               'start': 2,\n",
      "               'value': 'เขียว'}],\n",
      " 'intent': {'confidence': 0.9510044455528259, 'name': 'query'},\n",
      " 'intent_ranking': [{'confidence': 0.9510044455528259, 'name': 'query'},\n",
      "                    {'confidence': 0.044341132044792175, 'name': 'greet'}],\n",
      " 'text': 'สีเขียวราคาเท่าไหร่'}\n"
     ]
    }
   ],
   "source": [
    "pprint(interpreter.parse(\"สีเขียวราคาเท่าไหร่\"))"
   ]
  },
  {
   "cell_type": "markdown",
   "metadata": {},
   "source": [
    "Instead of evaluating it by hand, the model can also be evaluated on a test data set (though for simplicity we are going to use the same for test and train):"
   ]
  },
  {
   "cell_type": "code",
   "execution_count": null,
   "metadata": {},
   "outputs": [],
   "source": [
    "from rasa_nlu.evaluate import run_evaluation\n",
    "\n",
    "run_evaluation(\"nlu.md\", model_directory)"
   ]
  },
  {
   "cell_type": "markdown",
   "metadata": {},
   "source": [
    "# Part 2: Handling the dialogue"
   ]
  },
  {
   "cell_type": "markdown",
   "metadata": {},
   "source": [
    "We have taught our chatbot how to understand user inputs. Now, it's time to teach our chatbot how to make responses by training a dialogue management model using Rasa Core."
   ]
  },
  {
   "cell_type": "markdown",
   "metadata": {},
   "source": [
    "### Writing Stories\n",
    "\n",
    "The training data for dialogue management models is called `stories`. A story is an actual conversation where user inputs are expressed as intents as well as corresponding entities, and chatbot responses are expressed as actions.\n",
    "\n",
    "\n",
    "Let's take a look into the format of the stories in more detail:\n",
    "\n",
    "A story starts with `##` and you can give it a name. \n",
    "Lines that start with `*` are messages sent by the user. Although you don't write the *actual* message, but rather the intent (and the entities) that represent what the user *means*. \n",
    "Lines that start with `-` are *actions* taken by your bot. In this case all of our actions are just messages sent back to the user, like `utter_greet`, but in general an action can do anything, including calling an API and interacting with the outside world. "
   ]
  },
  {
   "cell_type": "code",
   "execution_count": null,
   "metadata": {},
   "outputs": [],
   "source": [
    "stories_md = \"\"\"\n",
    "\n",
    "\n",
    "\"\"\"\n",
    "\n",
    "%store stories_md > stories.md"
   ]
  },
  {
   "cell_type": "markdown",
   "metadata": {},
   "source": [
    "### Defining a Domain\n",
    "\n",
    "The domain specifies the universe that the bot operates in. In chatbot's world this universe consists of intents and entities as well as the actions which appear in training stories. The domain can also contain the templates for the answers a chabot should use to respond to the user and slots which will help the chatbot to keep track of the context. Let's look into the domain of our bot:"
   ]
  },
  {
   "cell_type": "code",
   "execution_count": null,
   "metadata": {},
   "outputs": [],
   "source": [
    "domain_yml = \"\"\"\n",
    "intents:\n",
    "- greet\n",
    "- goodbye\n",
    "- mood_affirm\n",
    "- mood_deny\n",
    "- mood_great\n",
    "- mood_unhappy\n",
    "- inform\n",
    "\n",
    "    \n",
    "entities:\n",
    "- group\n",
    "\n",
    "actions:\n",
    "- utter_greet\n",
    "- utter_did_that_help\n",
    "- utter_happy\n",
    "- utter_goodbye\n",
    "- utter_unclear\n",
    "- utter_ask_picture\n",
    "\n",
    "\n",
    "templates:\n",
    "  utter_greet:\n",
    "  - text: \"Hey! How are you?\"\n",
    "\n",
    "  utter_did_that_help:\n",
    "  - text: \"Did that help you?\"\n",
    "\n",
    "  utter_unclear:\n",
    "  - text: \"I am not sure what you are aiming for.\"\n",
    "  \n",
    "  utter_happy:\n",
    "  - text: \"Great carry on!\"\n",
    "\n",
    "  utter_goodbye:\n",
    "  - text: \"Bye\"\n",
    "  \n",
    "  utter_ask_picture:\n",
    "  - text: \"To cheer you up, I can show you a cute picture of a dog, a cat or a bird. Which one do you choose?\"\n",
    "\"\"\"\n",
    "\n",
    "%store domain_yml > domain.yml"
   ]
  },
  {
   "cell_type": "markdown",
   "metadata": {},
   "source": [
    "### Adding Custom Actions"
   ]
  },
  {
   "cell_type": "markdown",
   "metadata": {},
   "source": [
    "The responses of the chatbot can be more than just simple text responses - we can call an API to retrieve some data which can later be used to create a response to user input. Let's create a custom action for our bot which, when predicted, will make an API and retrieve a picture of a dog, a cat or a bird, depending on which was specified by the user. The bot will know which type of picture should be received by retrieving the value of the slot `group`.\n"
   ]
  },
  {
   "cell_type": "code",
   "execution_count": null,
   "metadata": {},
   "outputs": [],
   "source": [
    "from rasa_core.actions import Action\n",
    "from rasa_core.events import SlotSet\n",
    "from IPython.display import Image\n",
    "\n",
    "import requests\n",
    "\n",
    "class ApiAction(Action):\n",
    "    def name(self):\n",
    "        return \"action_retrieve_image\"\n",
    "\n",
    "    def run(self, dispatcher, tracker, domain):\n",
    "        \n",
    "\n",
    "        group = \n",
    "        r = \n",
    "        \n",
    "        response = r.content.decode()\n",
    "        response = response.replace('[\"',\"\")\n",
    "        response = response.replace('\"]',\"\")\n",
    "        \n",
    "        dispatcher.utter_message(\"\")"
   ]
  },
  {
   "cell_type": "markdown",
   "metadata": {},
   "source": [
    "### Pro Tip: Visualising the Training Data\n",
    "\n",
    "You can visualise the stories to get a sense of how the conversations go. This is usually a good way to see if there are any stories which don't make sense\n"
   ]
  },
  {
   "cell_type": "code",
   "execution_count": null,
   "metadata": {},
   "outputs": [],
   "source": [
    "from IPython.display import Image\n",
    "from rasa_core.agent import Agent\n",
    "\n",
    "agent = Agent('domain.yml')\n",
    "agent.visualize(\"stories.md\", \"story_graph.html\", max_history=2)"
   ]
  },
  {
   "cell_type": "markdown",
   "metadata": {},
   "source": [
    "### Training your Dialogue Model\n",
    "\n",
    "Now we are good to train the dialogue management model. We can specify what policies should be used to train it - in this case, the model is a neural network implemented in Keras which learns to predict which action to take next. We can also tweak the parameters of what percentage of training examples should be used for validation and how many epochs should be used for training."
   ]
  },
  {
   "cell_type": "code",
   "execution_count": null,
   "metadata": {},
   "outputs": [],
   "source": [
    "from rasa_core.policies import FallbackPolicy, KerasPolicy, MemoizationPolicy\n",
    "from rasa_core.agent import Agent\n",
    "\n",
    "# this will catch predictions the model isn't very certain about\n",
    "# there is a threshold for the NLU predictions as well as the action predictions\n",
    "\n",
    "\n",
    "agent = Agent('domain.yml', policies=[MemoizationPolicy(), KerasPolicy()])\n",
    "\n",
    "# loading our neatly defined training dialogues\n",
    "training_data = agent.load_data('stories.md')\n",
    "\n",
    "agent.train(\n",
    "    training_data,\n",
    "    validation_split=0.0,\n",
    "    epochs=200\n",
    ")\n",
    "\n",
    "agent.persist('models/dialogue')"
   ]
  },
  {
   "cell_type": "markdown",
   "metadata": {},
   "source": [
    "### Starting up the bot (with NLU)\n",
    "\n",
    "Now it's time for the fun part - starting the agent and chatting with it. We are going to start the `Agent` by loading our just trained dialogue model and using the previously trained nlu model as an interpreter for incoming user inputs."
   ]
  },
  {
   "cell_type": "code",
   "execution_count": null,
   "metadata": {},
   "outputs": [],
   "source": [
    "from rasa_core.agent import Agent\n",
    "agent = Agent.load('models/dialogue', interpreter=model_directory)"
   ]
  },
  {
   "cell_type": "markdown",
   "metadata": {},
   "source": [
    "### Talking to the Bot (with NLU)\n",
    "\n",
    "Let's have a chat!"
   ]
  },
  {
   "cell_type": "code",
   "execution_count": null,
   "metadata": {},
   "outputs": [],
   "source": [
    "print(\"Your bot is ready to talk! Type your messages here or send 'stop'\")\n",
    "while True:\n",
    "    a = input()\n",
    "    if a == 'stop':\n",
    "        break\n",
    "    responses = agent.handle_message(a)\n",
    "    for response in responses:\n",
    "        print(response[\"text\"])\n"
   ]
  },
  {
   "cell_type": "markdown",
   "metadata": {},
   "source": [
    "### Evaluation of the dialogue model\n",
    "As with the NLU model, instead of just subjectively testing the model, we can also evaluate the model on a dataset. You'll be using the training data set again, but usually you'd use a test data set separate from the training data."
   ]
  },
  {
   "cell_type": "code",
   "execution_count": null,
   "metadata": {},
   "outputs": [],
   "source": [
    "from rasa_core.evaluate import run_story_evaluation\n",
    "\n",
    "run_story_evaluation(\"stories.md\", \"models/dialogue\", \n",
    "                     nlu_model_path=None, \n",
    "                     max_stories=None, \n",
    "                     out_file_plot=\"story_eval.pdf\")"
   ]
  },
  {
   "cell_type": "markdown",
   "metadata": {},
   "source": [
    "### Interactive learning\n",
    "Unfortunately, this doesn't work in Jupyter yet. Hence, we going to do this on the command line. To start the interactive training session open your command line and run `train_online.py` script."
   ]
  },
  {
   "cell_type": "markdown",
   "metadata": {},
   "source": [
    "### Resources and tips\n",
    "\n",
    "- Rasa NLU [documentation](https://nlu.rasa.com/)\n",
    "- Rasa Core [documentation](https://core.rasa.com/)\n",
    "- Rasa Community on [Gitter](https://gitter.im/RasaHQ/home)\n",
    "- Rasa [Blog](https://blog.rasa.com/)"
   ]
  },
  {
   "cell_type": "code",
   "execution_count": null,
   "metadata": {},
   "outputs": [],
   "source": []
  }
 ],
 "metadata": {
  "kernelspec": {
   "display_name": "Python 3",
   "language": "python",
   "name": "python3"
  },
  "language_info": {
   "codemirror_mode": {
    "name": "ipython",
    "version": 3
   },
   "file_extension": ".py",
   "mimetype": "text/x-python",
   "name": "python",
   "nbconvert_exporter": "python",
   "pygments_lexer": "ipython3",
   "version": "3.6.8"
  }
 },
 "nbformat": 4,
 "nbformat_minor": 2
}
